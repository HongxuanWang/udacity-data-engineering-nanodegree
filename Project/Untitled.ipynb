{
 "cells": [
  {
   "cell_type": "code",
   "execution_count": 5,
   "metadata": {},
   "outputs": [
    {
     "ename": "ModuleNotFoundError",
     "evalue": "No module named 'goodreads'",
     "output_type": "error",
     "traceback": [
      "\u001b[0;31m---------------------------------------------------------------------------\u001b[0m",
      "\u001b[0;31mModuleNotFoundError\u001b[0m                       Traceback (most recent call last)",
      "\u001b[0;32m<ipython-input-5-d1af1b0554f0>\u001b[0m in \u001b[0;36m<module>\u001b[0;34m\u001b[0m\n\u001b[1;32m      1\u001b[0m \u001b[0;32mimport\u001b[0m \u001b[0mconfigparser\u001b[0m\u001b[0;34m\u001b[0m\u001b[0;34m\u001b[0m\u001b[0m\n\u001b[0;32m----> 2\u001b[0;31m \u001b[0;32mfrom\u001b[0m \u001b[0mgoodreads\u001b[0m \u001b[0;32mimport\u001b[0m \u001b[0mclient\u001b[0m\u001b[0;34m\u001b[0m\u001b[0;34m\u001b[0m\u001b[0m\n\u001b[0m\u001b[1;32m      3\u001b[0m \u001b[0;32mfrom\u001b[0m \u001b[0mgoodreads\u001b[0m \u001b[0;32mimport\u001b[0m \u001b[0mcollectdata\u001b[0m\u001b[0;34m\u001b[0m\u001b[0;34m\u001b[0m\u001b[0m\n\u001b[1;32m      4\u001b[0m \u001b[0;32mfrom\u001b[0m \u001b[0mdatetime\u001b[0m \u001b[0;32mimport\u001b[0m \u001b[0mdatetime\u001b[0m\u001b[0;34m,\u001b[0m \u001b[0mtimedelta\u001b[0m\u001b[0;34m\u001b[0m\u001b[0;34m\u001b[0m\u001b[0m\n\u001b[1;32m      5\u001b[0m \u001b[0;32mimport\u001b[0m \u001b[0mlogging\u001b[0m\u001b[0;34m\u001b[0m\u001b[0;34m\u001b[0m\u001b[0m\n",
      "\u001b[0;31mModuleNotFoundError\u001b[0m: No module named 'goodreads'"
     ]
    }
   ],
   "source": [
    "import configparser\n",
    "from goodreads import client\n",
    "from goodreads import collectdata\n",
    "from datetime import datetime, timedelta\n",
    "import logging\n",
    "import logging.config\n",
    "from pathlib import Path\n",
    "import time\n",
    "\n",
    "# Setting up logger, Logger properties are defined in logging.ini file\n",
    "logging.config.fileConfig(f\"{Path(__file__).parents[0]}/logging.ini\")\n",
    "logger = logging.getLogger(__name__)\n",
    "\n",
    "# Reading configurations\n",
    "config = configparser.ConfigParser()\n",
    "config.read_file(open('config.cfg'))\n",
    "\n",
    "\n",
    "def main():\n",
    "    logging.debug(\"Creating good reads client.\")\n",
    "    grclient = client.GoodreadsClient(config['GOODREADKEYS']['KEY'], config['GOODREADKEYS']['SECRET'])\n",
    "    grcollector = collectdata.GoodreadsCollect(grclient, config['DATA_DIR_PATH']['PATH'])\n",
    "\n",
    "    end_after = int(config['TIMEPARAM']['END_TIME'])\n",
    "    wait_time = int(config['TIMEPARAM']['WAIT_TIME'])\n",
    "\n",
    "    logging.debug(f\"Execution started at {datetime.now()}\")\n",
    "    end_time = datetime.now() + timedelta(seconds=end_after)\n",
    "    logging.debug(f\"Execution will end at : {end_time}\")\n",
    "\n",
    "    while(datetime.now() < end_time):\n",
    "        logging.debug(\"Fetching data...........\")\n",
    "\n",
    "        try:\n",
    "            grcollector.fetch_data()\n",
    "        except Exception as e:\n",
    "            logging.exception(\"Some exception occured : \", e)\n",
    "            continue\n",
    "\n",
    "        logging.debug(f\"Waiting for {config['TIMEPARAM']['WAIT_TIME']} seconds\")\n",
    "        time.sleep(wait_time)\n",
    "\n",
    "    logging.debug(\"Execution ended.\")\n",
    "\n",
    "if __name__ == \"__main__\":\n",
    "    main()\n",
    "    logging.debug(\"Exiting.\")"
   ]
  },
  {
   "cell_type": "code",
   "execution_count": 3,
   "metadata": {},
   "outputs": [
    {
     "ename": "FileNotFoundError",
     "evalue": "[Errno 2] No such file or directory: 'config.cfg'",
     "output_type": "error",
     "traceback": [
      "\u001b[0;31m---------------------------------------------------------------------------\u001b[0m",
      "\u001b[0;31mFileNotFoundError\u001b[0m                         Traceback (most recent call last)",
      "\u001b[0;32m<ipython-input-3-2ca71bfb4544>\u001b[0m in \u001b[0;36m<module>\u001b[0;34m\u001b[0m\n\u001b[1;32m      1\u001b[0m \u001b[0;31m# Reading configurations\u001b[0m\u001b[0;34m\u001b[0m\u001b[0;34m\u001b[0m\u001b[0;34m\u001b[0m\u001b[0m\n\u001b[1;32m      2\u001b[0m \u001b[0mconfig\u001b[0m \u001b[0;34m=\u001b[0m \u001b[0mconfigparser\u001b[0m\u001b[0;34m.\u001b[0m\u001b[0mConfigParser\u001b[0m\u001b[0;34m(\u001b[0m\u001b[0;34m)\u001b[0m\u001b[0;34m\u001b[0m\u001b[0;34m\u001b[0m\u001b[0m\n\u001b[0;32m----> 3\u001b[0;31m \u001b[0mconfig\u001b[0m\u001b[0;34m.\u001b[0m\u001b[0mread_file\u001b[0m\u001b[0;34m(\u001b[0m\u001b[0mopen\u001b[0m\u001b[0;34m(\u001b[0m\u001b[0;34m'config.cfg'\u001b[0m\u001b[0;34m)\u001b[0m\u001b[0;34m)\u001b[0m\u001b[0;34m\u001b[0m\u001b[0;34m\u001b[0m\u001b[0m\n\u001b[0m",
      "\u001b[0;31mFileNotFoundError\u001b[0m: [Errno 2] No such file or directory: 'config.cfg'"
     ]
    }
   ],
   "source": [
    "# Reading configurations\n",
    "config = configparser.ConfigParser()\n",
    "config.read_file(open('config.cfg'))"
   ]
  },
  {
   "cell_type": "code",
   "execution_count": null,
   "metadata": {},
   "outputs": [],
   "source": []
  }
 ],
 "metadata": {
  "kernelspec": {
   "display_name": "Python 3",
   "language": "python",
   "name": "python3"
  },
  "language_info": {
   "codemirror_mode": {
    "name": "ipython",
    "version": 3
   },
   "file_extension": ".py",
   "mimetype": "text/x-python",
   "name": "python",
   "nbconvert_exporter": "python",
   "pygments_lexer": "ipython3",
   "version": "3.7.1"
  }
 },
 "nbformat": 4,
 "nbformat_minor": 2
}
